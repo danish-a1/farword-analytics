{
 "cells": [
  {
   "metadata": {
    "ExecuteTime": {
     "end_time": "2024-11-18T20:52:21.330240Z",
     "start_time": "2024-11-18T20:52:21.264745Z"
    }
   },
   "cell_type": "code",
   "source": [
    "import sqlite3\n",
    "import xml.etree.ElementTree as ET\n",
    "import requests\n",
    "import zipfile\n",
    "import os\n",
    "\n",
    "def download_and_unzip(url, save_path, extract_to):\n",
    "    # Ensure the directory for saving the ZIP file exists\n",
    "    save_path = os.path.abspath(save_path)\n",
    "    extract_to = os.path.abspath(extract_to)\n",
    "\n",
    "    os.makedirs(os.path.dirname(save_path), exist_ok=True)\n",
    "    os.makedirs(extract_to, exist_ok=True)\n",
    "\n",
    "    # Step 1: Check if the file already exists\n",
    "    if not os.path.exists(save_path):\n",
    "        # Download the file\n",
    "        print(f\"Downloading file from {url}...\")\n",
    "        response = requests.get(url, stream=True)\n",
    "        if response.status_code == 200:\n",
    "            with open(save_path, 'wb') as file:\n",
    "                for chunk in response.iter_content(chunk_size=8192):\n",
    "                    file.write(chunk)\n",
    "            print(f\"File downloaded and saved as {save_path}\")\n",
    "        else:\n",
    "            print(f\"Failed to download file. Status code: {response.status_code}\")\n",
    "            return\n",
    "    else:\n",
    "        print(f\"File already exists at {save_path}, skipping download.\")\n",
    "\n",
    "    # Step 2: Unzip the file\n",
    "    if zipfile.is_zipfile(save_path):\n",
    "        print(f\"Unzipping file to {extract_to}...\")\n",
    "        with zipfile.ZipFile(save_path, 'r') as zip_ref:\n",
    "            zip_ref.extractall(extract_to)\n",
    "        print(f\"File successfully unzipped to {extract_to}\")\n",
    "\n",
    "        # Rename the extracted file\n",
    "        extracted_files = os.listdir(extract_to)\n",
    "        if extracted_files:\n",
    "            old_file_path = os.path.join(extract_to, extracted_files[0])  # Assuming single file in ZIP\n",
    "            new_file_path = os.path.join(extract_to, \"lei.xml\")\n",
    "            os.rename(old_file_path, new_file_path)\n",
    "            print(f\"File renamed from {extracted_files[0]} to 'lei.xml'\")\n",
    "\n",
    "        # Step 3: Delete the ZIP file\n",
    "        os.remove(save_path)\n",
    "        print(f\"Temporary ZIP file removed: {save_path}\")\n",
    "    else:\n",
    "        print(f\"The downloaded file is not a valid ZIP file.\")\n",
    "        # Optionally, remove invalid file\n",
    "        if os.path.exists(save_path):\n",
    "            os.remove(save_path)\n",
    "            print(f\"Invalid ZIP file removed: {save_path}\")"
   ],
   "id": "77ad26e323cc6c0b",
   "outputs": [],
   "execution_count": 2
  },
  {
   "metadata": {
    "ExecuteTime": {
     "end_time": "2024-11-18T20:53:49.210614Z",
     "start_time": "2024-11-18T20:52:21.337236Z"
    }
   },
   "cell_type": "code",
   "source": [
    "lei_url = \"https://leidata.gleif.org/api/v1/concatenated-files/lei2/get/36200/zip\"\n",
    "lei_save_path = \"files/temp/lei.zip\"\n",
    "lei_extract_to = \"files/lei_files\"\n",
    "\n",
    "download_and_unzip(lei_url, lei_save_path, lei_extract_to)"
   ],
   "id": "825dd956df45ef78",
   "outputs": [
    {
     "name": "stdout",
     "output_type": "stream",
     "text": [
      "Downloading file from https://leidata.gleif.org/api/v1/concatenated-files/lei2/get/36200/zip...\n",
      "File downloaded and saved as /Users/danish/PycharmProjects/ForwardAnalytics/files/temp/lei.zip\n",
      "Unzipping file to /Users/danish/PycharmProjects/ForwardAnalytics/files/lei_files...\n",
      "File successfully unzipped to /Users/danish/PycharmProjects/ForwardAnalytics/files/lei_files\n",
      "File renamed from 20241116-gleif-concatenated-file-lei2.xml to 'lei.xml'\n",
      "Temporary ZIP file removed: /Users/danish/PycharmProjects/ForwardAnalytics/files/temp/lei.zip\n"
     ]
    }
   ],
   "execution_count": 3
  },
  {
   "metadata": {
    "ExecuteTime": {
     "end_time": "2024-11-18T20:53:49.253702Z",
     "start_time": "2024-11-18T20:53:49.251431Z"
    }
   },
   "cell_type": "code",
   "source": [
    "# Connect to SQLite database (or create one if it doesn't exist)\n",
    "db_path = \"db/lei_records.sqlite3\"\n",
    "conn = sqlite3.connect(db_path)\n",
    "cursor = conn.cursor()"
   ],
   "id": "fc892ca5274c25a6",
   "outputs": [],
   "execution_count": 4
  },
  {
   "metadata": {
    "ExecuteTime": {
     "end_time": "2024-11-18T20:53:49.294377Z",
     "start_time": "2024-11-18T20:53:49.289738Z"
    }
   },
   "cell_type": "code",
   "source": [
    "cursor.execute(\"\"\"DROP INDEX IF EXISTS lei_records\"\"\")\n",
    "cursor.execute(\"\"\"DROP INDEX IF EXISTS legal_name\"\"\")"
   ],
   "id": "6c1b86a98e1af155",
   "outputs": [
    {
     "data": {
      "text/plain": [
       "<sqlite3.Cursor at 0x12001c340>"
      ]
     },
     "execution_count": 5,
     "metadata": {},
     "output_type": "execute_result"
    }
   ],
   "execution_count": 5
  },
  {
   "metadata": {
    "ExecuteTime": {
     "end_time": "2024-11-18T20:53:49.313910Z",
     "start_time": "2024-11-18T20:53:49.311080Z"
    }
   },
   "cell_type": "code",
   "source": [
    "# Create table to store LEI records\n",
    "cursor.execute(\"\"\"\n",
    "    CREATE TABLE IF NOT EXISTS lei_records (\n",
    "        lei TEXT TEXT PRIMARY KEY,\n",
    "        legal_name TEXT\n",
    "    )\n",
    "\"\"\")\n",
    "cursor.execute(\"\"\"\n",
    "    CREATE INDEX IF NOT EXISTS legal_name ON lei_records(legal_name)\n",
    "\"\"\")\n",
    "conn.commit()\n"
   ],
   "id": "cac8f5153a3986e3",
   "outputs": [],
   "execution_count": 6
  },
  {
   "metadata": {
    "ExecuteTime": {
     "end_time": "2024-11-18T20:53:49.328846Z",
     "start_time": "2024-11-18T20:53:49.325576Z"
    }
   },
   "cell_type": "code",
   "source": [
    "# Function to process and commit LEI records in batches\n",
    "def process_lei_records(xml_file, batch_size=10000):\n",
    "    name_space = {\"lei\": \"http://www.gleif.org/data/schema/leidata/2016\"}\n",
    "    records = []\n",
    "    for event, elem in ET.iterparse(xml_file, events=(\"end\",)):\n",
    "        if elem.tag.endswith(\"LEIRecord\"):\n",
    "            lei_tag = elem.find(\"lei:LEI\", name_space).text\n",
    "            legal_name_tag = elem.find(\"lei:Entity/lei:LegalName\", name_space).text\n",
    "\n",
    "            # Add to batch\n",
    "            records.append((lei_tag, legal_name_tag, ))\n",
    "            # Commit batch to database\n",
    "            if len(records) >= batch_size:\n",
    "                cursor.executemany(\"\"\"\n",
    "                    INSERT OR IGNORE INTO lei_records (lei, legal_name)\n",
    "                    VALUES (?, ?)\n",
    "                \"\"\", records)\n",
    "                conn.commit()\n",
    "                records = []  # Clear the batch\n",
    "\n",
    "            elem.clear()  # Clear memory for processed element"
   ],
   "id": "7acbe96a1578d02a",
   "outputs": [],
   "execution_count": 7
  },
  {
   "metadata": {
    "ExecuteTime": {
     "end_time": "2024-11-18T21:01:53.254307Z",
     "start_time": "2024-11-18T20:58:45.338723Z"
    }
   },
   "cell_type": "code",
   "source": [
    "# Path to the large XML file\n",
    "large_xml_file = \"files/lei_files/lei.xml\"\n",
    "# Process the XML file and commit records in batches of 10000\n",
    "process_lei_records(large_xml_file, batch_size=10000)\n",
    "\n",
    "# Close the database connection\n",
    "conn.close()\n",
    "\n",
    "print(f\"Data committed to database {db_path}.\")"
   ],
   "id": "a93ed36bed2325a4",
   "outputs": [
    {
     "name": "stdout",
     "output_type": "stream",
     "text": [
      "Data committed to database db/lei_records.sqlite3.\n"
     ]
    }
   ],
   "execution_count": 8
  },
  {
   "metadata": {},
   "cell_type": "code",
   "outputs": [],
   "execution_count": null,
   "source": "",
   "id": "f224d2fba80a0e4a"
  }
 ],
 "metadata": {
  "kernelspec": {
   "display_name": "Python 3",
   "language": "python",
   "name": "python3"
  },
  "language_info": {
   "codemirror_mode": {
    "name": "ipython",
    "version": 2
   },
   "file_extension": ".py",
   "mimetype": "text/x-python",
   "name": "python",
   "nbconvert_exporter": "python",
   "pygments_lexer": "ipython2",
   "version": "2.7.6"
  }
 },
 "nbformat": 4,
 "nbformat_minor": 5
}
